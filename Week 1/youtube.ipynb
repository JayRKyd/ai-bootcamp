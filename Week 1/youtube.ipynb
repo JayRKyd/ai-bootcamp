{
 "cells": [
  {
   "cell_type": "code",
   "execution_count": 1,
   "id": "48466c95-3490-4487-b870-4210f9570435",
   "metadata": {},
   "outputs": [
    {
     "name": "stdout",
     "output_type": "stream",
     "text": [
      "Requirement already satisfied: python-dotenv in c:\\users\\ryahj\\cascadeprojects\\ai-bootcamp\\ai-bootcamp\\.venv\\lib\\site-packages (1.1.1)\n",
      "Note: you may need to restart the kernel to use updated packages.\n"
     ]
    }
   ],
   "source": [
    "%pip install python-dotenv"
   ]
  },
  {
   "cell_type": "code",
   "execution_count": 2,
   "id": "a6c7ce2a-4c8c-4b63-91c8-7a50d59969c4",
   "metadata": {},
   "outputs": [],
   "source": [
    "from dotenv import load_dotenv"
   ]
  },
  {
   "cell_type": "code",
   "execution_count": 3,
   "id": "32ca6b0f-7fba-4ca1-b138-eb56e0ab5d3c",
   "metadata": {},
   "outputs": [
    {
     "data": {
      "text/plain": [
       "True"
      ]
     },
     "execution_count": 3,
     "metadata": {},
     "output_type": "execute_result"
    }
   ],
   "source": [
    "load_dotenv()"
   ]
  },
  {
   "cell_type": "code",
   "execution_count": 4,
   "id": "300f49c3-4465-4f48-b858-700986f2074e",
   "metadata": {},
   "outputs": [],
   "source": [
    "from openai import OpenAI\n",
    "\n",
    "openai_client = OpenAI()"
   ]
  },
  {
   "cell_type": "code",
   "execution_count": 10,
   "id": "37f5e549-9ac5-46e1-8006-f70c079cdd70",
   "metadata": {},
   "outputs": [],
   "source": [
    "def llm(user_prompt, instructions=None, model=\"gpt-4o-mini\"):\n",
    "    messages = []\n",
    "\n",
    "    if instructions:\n",
    "        messages.append({\n",
    "            \"role\": \"system\",\n",
    "            \"content\": instructions\n",
    "        })\n",
    "\n",
    "        messages.append({\n",
    "         \"role\": \"user\",\n",
    "         \"content\": user_prompt\n",
    "         })\n",
    "\n",
    "    response = openai_client.responses.create(\n",
    "        model=model,\n",
    "        input=messages\n",
    "\n",
    "    )\n",
    "\n",
    "    return response.output_text"
   ]
  },
  {
   "cell_type": "code",
   "execution_count": 11,
   "id": "30e20b01-e6d7-4593-9fe9-eb7c127fbacd",
   "metadata": {},
   "outputs": [
    {
     "name": "stderr",
     "output_type": "stream",
     "text": [
      "\u001b[2mResolved \u001b[1m152 packages\u001b[0m \u001b[2min 1.55s\u001b[0m\u001b[0m\n",
      "\u001b[2mPrepared \u001b[1m1 package\u001b[0m \u001b[2min 420ms\u001b[0m\u001b[0m\n",
      "\u001b[2mInstalled \u001b[1m1 package\u001b[0m \u001b[2min 80ms\u001b[0m\u001b[0m\n",
      " \u001b[32m+\u001b[39m \u001b[1myoutube-transcript-api\u001b[0m\u001b[2m==1.2.2\u001b[0m\n"
     ]
    }
   ],
   "source": [
    "!uv add youtube-transcript-api"
   ]
  },
  {
   "cell_type": "code",
   "execution_count": 16,
   "id": "a9bf85bf-f28b-46cb-bfe7-c98b8e1222c8",
   "metadata": {},
   "outputs": [],
   "source": [
    "from youtube_transcript_api import YouTubeTranscriptApi"
   ]
  },
  {
   "cell_type": "code",
   "execution_count": 22,
   "id": "2e9f8420-c825-43eb-99d3-85f9841135a3",
   "metadata": {},
   "outputs": [],
   "source": [
    "video_id = 'ph1PxZIkz1o'\n",
    "\n",
    "ytt_api = YouTubeTranscriptApi()\n",
    "transcript = ytt_api.fetch(video_id)"
   ]
  },
  {
   "cell_type": "code",
   "execution_count": 23,
   "id": "3c725e0e-d3da-4018-9e04-ff5582706bb2",
   "metadata": {},
   "outputs": [],
   "source": [
    "import pickle"
   ]
  },
  {
   "cell_type": "code",
   "execution_count": 24,
   "id": "dd751550-100c-4a4b-8755-00357fbafe42",
   "metadata": {},
   "outputs": [],
   "source": [
    "with open(f'{video_id}.bin', 'wb') as f_out:\n",
    "    pickle.dump(transcript, f_out)"
   ]
  },
  {
   "cell_type": "code",
   "execution_count": 26,
   "id": "78d43bc4-2d85-4a30-9e4e-09c5247670ca",
   "metadata": {},
   "outputs": [
    {
     "data": {
      "text/plain": [
       "[FetchedTranscriptSnippet(text='So hi everyone. Uh today we are going to', start=0.0, duration=5.04),\n",
       " FetchedTranscriptSnippet(text='talk about our upcoming course. The', start=2.96, duration=3.52),\n",
       " FetchedTranscriptSnippet(text='upcoming course is called machine', start=5.04, duration=5.92),\n",
       " FetchedTranscriptSnippet(text='learning zoom camp. And um this is', start=6.48, duration=5.92),\n",
       " FetchedTranscriptSnippet(text='already I put the link in the', start=10.96, duration=3.599),\n",
       " FetchedTranscriptSnippet(text=\"description. So if you're watching um\", start=12.4, duration=4.719),\n",
       " FetchedTranscriptSnippet(text=\"this video in recording or you're\", start=14.559, duration=4.88),\n",
       " FetchedTranscriptSnippet(text='watching it live, you go here in the', start=17.119, duration=4.561),\n",
       " FetchedTranscriptSnippet(text='description after under this video and', start=19.439, duration=5.6),\n",
       " FetchedTranscriptSnippet(text='then you see a link course. uh click on', start=21.68, duration=6.24)]"
      ]
     },
     "execution_count": 26,
     "metadata": {},
     "output_type": "execute_result"
    }
   ],
   "source": [
    "transcript[:10]"
   ]
  },
  {
   "cell_type": "code",
   "execution_count": 27,
   "id": "1f59be89-f2b0-491a-99c1-e2c5100f7bff",
   "metadata": {},
   "outputs": [],
   "source": [
    "\n",
    "\n",
    "def format_timestamp(seconds: float) -> str:\n",
    "    \"\"\"Convert seconds to H:MM:SS if > 1 hour, else M:SS\"\"\"\n",
    "    total_seconds = int(seconds)\n",
    "    hours, remainder = divmod(total_seconds, 3600)\n",
    "    minutes, secs = divmod(remainder, 60)\n",
    "\n",
    "    if hours > 0:\n",
    "        return f\"{hours}:{minutes:02}:{secs:02}\"\n",
    "    else:\n",
    "        return f\"{minutes}:{secs:02}\"\n",
    "\n",
    "def make_subtitles(transcript) -> str:\n",
    "    lines = []\n",
    "\n",
    "    for entry in transcript:\n",
    "        ts = format_timestamp(entry.start)\n",
    "        text = entry.text.replace('\\n', ' ')\n",
    "        lines.append(ts + ' ' + text)\n",
    "\n",
    "    return '\\n'.join(lines)\n",
    "\n",
    "\n"
   ]
  },
  {
   "cell_type": "code",
   "execution_count": 28,
   "id": "1455a32d-8080-45fc-9b3a-9b35b6fc3322",
   "metadata": {},
   "outputs": [],
   "source": [
    "subtitles = make_subtitles(transcript)"
   ]
  },
  {
   "cell_type": "code",
   "execution_count": 29,
   "id": "0bdfee9e-79c6-4143-b74a-dbb5fa07cb64",
   "metadata": {},
   "outputs": [
    {
     "name": "stdout",
     "output_type": "stream",
     "text": [
      "0:00 So hi everyone. Uh today we are going to\n",
      "0:02 talk about our upcoming course. The\n",
      "0:05 upcoming course is called machine\n",
      "0:06 learning zoom camp. And um this is\n",
      "0:10 already I put the link in the\n",
      "0:12 description. So if you're watching um\n",
      "0:14 this video in recording or you're\n",
      "0:17 watching it live, you go here in the\n",
      "0:19 description after under this video and\n",
      "0:21 then you see a link course. uh click on\n",
      "0:25 that link and this bring you will bring\n",
      "0:27 you to\n",
      "0:29 this website this GitHub\n"
     ]
    }
   ],
   "source": [
    "print(subtitles[:500])"
   ]
  },
  {
   "cell_type": "code",
   "execution_count": 30,
   "id": "cb127cd7-9636-4328-aa8f-b666ddec904e",
   "metadata": {},
   "outputs": [],
   "source": [
    "instructions = \"\"\"\n",
    "Summarize the transcript and describe the main purpose of the video\n",
    "and the main ideas. \n",
    "\n",
    "Also output chapters with time. Use usual sentence case, not Title Case for the chapter.\n",
    "\n",
    "Output format: \n",
    "\n",
    "<OUTPUT>\n",
    "Summary\n",
    "\n",
    "timestamp chapter \n",
    "timestamp chapter\n",
    "...\n",
    "timestamp chapter\n",
    "</OUTPUT>\n",
    "\"\"\""
   ]
  },
  {
   "cell_type": "code",
   "execution_count": 31,
   "id": "7e924707-9d01-4740-acb3-701c4b02c020",
   "metadata": {},
   "outputs": [],
   "source": [
    "answer = llm(subtitles, instructions=instructions)"
   ]
  },
  {
   "cell_type": "code",
   "execution_count": 33,
   "id": "f1e15ab8-b596-4b01-b87d-4a5ddb8be1fe",
   "metadata": {},
   "outputs": [],
   "source": [
    "from pydantic import BaseModel"
   ]
  },
  {
   "cell_type": "code",
   "execution_count": 34,
   "id": "b5454e2c-01c7-4ace-8a82-1a9476f5035d",
   "metadata": {},
   "outputs": [],
   "source": [
    "class Chapter(BaseModel):\n",
    "    timestamp: str\n",
    "    title: str\n",
    "\n",
    "class YTSummaryResponse(BaseModel):\n",
    "    summary: str\n",
    "    chapters: list[Chapter]"
   ]
  },
  {
   "cell_type": "code",
   "execution_count": 39,
   "id": "61dc3b1b-3846-44ff-9b02-08f769a9d3e2",
   "metadata": {},
   "outputs": [],
   "source": [
    "def llm_structured(instructions, user_prompt, output_type, model=\"gpt-4o-mini\"):\n",
    "    messages = [\n",
    "        {\n",
    "            \"role\": \"system\",\n",
    "            \"content\": instructions\n",
    "        },\n",
    "        {\n",
    "         \"role\": \"user\",\n",
    "         \"content\": user_prompt\n",
    "         }\n",
    "    ]\n",
    "\n",
    "    response = openai_client.responses.parse(\n",
    "        model=model,\n",
    "        input=messages,\n",
    "        text_format=output_type\n",
    "\n",
    "    )\n",
    "\n",
    "    return response.output_parsed"
   ]
  },
  {
   "cell_type": "code",
   "execution_count": 40,
   "id": "35086623-8a8f-4bdf-9259-87df88504706",
   "metadata": {},
   "outputs": [],
   "source": [
    "summary = llm_structured(\n",
    "    instructions=instructions,\n",
    "    user_prompt=subtitles,\n",
    "    output_type=YTSummaryResponse\n",
    ")"
   ]
  },
  {
   "cell_type": "code",
   "execution_count": 43,
   "id": "1f5e9bb4-24d4-46c5-92fd-83ec3b1fca2e",
   "metadata": {},
   "outputs": [
    {
     "name": "stdout",
     "output_type": "stream",
     "text": [
      "The video introduces the upcoming \"Machine Learning Zoom Camp\" course, focusing on the course structure, prerequisites, and what participants can expect to learn. The instructor discusses the updates being made to the curriculum, the engineering focus of the course, and how it prepares students for careers in machine learning and ML engineering. They emphasize the importance of having programming skills and being comfortable with command line operations as prerequisites. Participants are encouraged to ask questions and interact through a dedicated platform. The video highlights milestones, such as upcoming deadlines, potential for job placements, and the inclusion of projects that will provide certificates upon completion.\n",
      "\n",
      "0:00 Introduction to the course\n",
      "0:48 Course overview and sign-up\n",
      "2:38 Course updates and module content\n",
      "3:50 Job placement opportunities\n",
      "4:56 Deep dive into topics covered\n",
      "6:09 Course prerequisites\n",
      "10:00 Command line usage\n",
      "10:56 Using PyTorch and TensorFlow\n",
      "12:43 Target audience for the course\n",
      "13:34 Recommended book for the course\n",
      "16:45 Math and prerequisites\n",
      "17:45 Required hardware specifications\n",
      "18:33 Using AI tools in learning\n",
      "20:44 Courses related to MLOps and data engineering\n",
      "21:32 Overview of course roles and jobs\n",
      "22:39 Project expectations\n",
      "24:51 Session structure and deadlines\n",
      "27:03 Certificate availability\n",
      "29:49 Week-by-week schedule\n",
      "31:22 Final Q&A session\n"
     ]
    }
   ],
   "source": [
    "print(summary.summary)\n",
    "print()\n",
    "for c in summary.chapters:\n",
    "    print(c.timestamp, c.title)"
   ]
  },
  {
   "cell_type": "code",
   "execution_count": 44,
   "id": "47fab8c6-9b07-4f2f-9f90-5a650c031708",
   "metadata": {},
   "outputs": [
    {
     "name": "stdout",
     "output_type": "stream",
     "text": [
      "0:00 So hi everyone. Uh today we are going to\n",
      "0:02 talk about our upcoming course. The\n",
      "0:05 upcoming course is called machine\n",
      "0:06 learning zoom camp. And um this is\n",
      "0:10 already I put the link in the\n",
      "0:12 description. So if you're watching um\n",
      "0:14 this video in recording or you're\n",
      "0:17 watching it live, you go here in the\n",
      "0:19 description after under this video and\n",
      "0:21 then you see a link course. uh click on\n",
      "0:25 that link and this bring you will bring\n",
      "0:27 you to\n",
      "0:29 this website this GitHub page.\n",
      "0:34 This GitHub page is the main entry point\n",
      "0:36 to our course and um yeah I think it's\n",
      "0:41 more or less self-explanatory. If you\n",
      "0:43 want to sign up this is the button you\n",
      "0:45 click and the actual course starts in on\n",
      "0:48 September 15th. it means that it's uh\n",
      "0:51 slightly less than one one month before\n",
      "0:53 the course starts and the purpose of\n",
      "0:55 today's um session is to just answer\n",
      "0:58 your questions. So you have some\n",
      "1:00 questions and uh you can ask these\n",
      "1:03 questions using\n"
     ]
    }
   ],
   "source": [
    "print(subtitles[:1000])"
   ]
  },
  {
   "cell_type": "code",
   "execution_count": 46,
   "id": "43be4aeb-bc49-4246-95f5-bca679290d5c",
   "metadata": {},
   "outputs": [],
   "source": [
    "def sliding_window(seq, size, step):\n",
    "    \"\"\"Create overlapping chunks using sliding window approach.\"\"\"\n",
    "    if size <= 0 or step <= 0:\n",
    "        raise ValueError(\"size and step must be positive\")\n",
    "\n",
    "    n = len(seq)\n",
    "    result = []\n",
    "    for i in range(0, n, step):\n",
    "        batch = seq[i:i+size]\n",
    "        result.append(batch)\n",
    "        if i + size >= n:\n",
    "            break\n",
    "\n",
    "    return result\n",
    "\n"
   ]
  },
  {
   "cell_type": "code",
   "execution_count": 49,
   "id": "3939f2f1-a773-4584-ae57-5f96ca4b08b7",
   "metadata": {},
   "outputs": [],
   "source": [
    "chunk = transcript[:10]"
   ]
  },
  {
   "cell_type": "code",
   "execution_count": 50,
   "id": "94f72d64-1663-44d8-9e8b-d558ecb61028",
   "metadata": {},
   "outputs": [],
   "source": [
    "def join_lines(transcript) -> str:\n",
    "    \"\"\"Join transcript entries into continuous text.\"\"\"\n",
    "    lines = []\n",
    "\n",
    "    for entry in transcript:\n",
    "        text = entry.text.replace('\\n', ' ')\n",
    "        lines.append(text)\n",
    "\n",
    "    return ' '.join(lines)\n",
    "\n",
    "def format_chunk(chunk):\n",
    "    \"\"\"Format a chunk with start/end timestamps and text.\"\"\"\n",
    "    time_start = format_timestamp(chunk[0].start)\n",
    "    time_end = format_timestamp(chunk[-1].start)\n",
    "    text = join_lines(chunk)\n",
    "\n",
    "    return {\n",
    "        'start': time_start,\n",
    "        'end': time_end,\n",
    "        'text': text\n",
    "    }\n"
   ]
  },
  {
   "cell_type": "code",
   "execution_count": 52,
   "id": "f30df2c6-633c-4a7d-aa77-ea668ca2d792",
   "metadata": {},
   "outputs": [],
   "source": [
    "chunks = []\n",
    "\n",
    "for chunk in sliding_window(transcript, 60, 30):\n",
    "    processed = format_chunk(chunk)\n",
    "    chunks.append(processed)\n",
    "\n"
   ]
  },
  {
   "cell_type": "code",
   "execution_count": 53,
   "id": "14e3101e-5ac4-41f6-bbcc-9ab224006497",
   "metadata": {},
   "outputs": [
    {
     "name": "stdout",
     "output_type": "stream",
     "text": [
      "Created 46 chunks\n"
     ]
    }
   ],
   "source": [
    "print(f\"Created {len(chunks)} chunks\")"
   ]
  },
  {
   "cell_type": "code",
   "execution_count": 55,
   "id": "0b968b7e-fe95-49cb-bc32-8a2947d6b65f",
   "metadata": {},
   "outputs": [
    {
     "data": {
      "text/plain": [
       "<minsearch.minsearch.Index at 0x1952699ed50>"
      ]
     },
     "execution_count": 55,
     "metadata": {},
     "output_type": "execute_result"
    }
   ],
   "source": [
    "from minsearch import Index\n",
    "\n",
    "index = Index(text_fields=[\"text\"])\n",
    "index.fit(chunks)\n",
    "\n"
   ]
  },
  {
   "cell_type": "code",
   "execution_count": 57,
   "id": "a5d07281-1910-410a-8671-347f794428fa",
   "metadata": {},
   "outputs": [],
   "source": [
    "results = index.search('Can I find a job after the course?', num_results=5)"
   ]
  },
  {
   "cell_type": "code",
   "execution_count": 59,
   "id": "5bb36ed9-df9e-49eb-b5ec-4d7aa8d6ae97",
   "metadata": {},
   "outputs": [],
   "source": [
    "\n",
    "import json\n",
    "\n",
    "def search(query):\n",
    "    \"\"\"Search for relevant documents.\"\"\"\n",
    "    return index.search(\n",
    "        query=query,\n",
    "        num_results=15\n",
    "    )\n",
    "\n",
    "instructions = \"\"\"\n",
    "Answer the QUESTION based on the CONTEXT from the subtitles of a YouTube video.\n",
    "\n",
    "Use only the facts from the CONTEXT when answering the QUESTION.\n",
    "\n",
    "When answering the question, \n",
    "provide the citation in form of the video URL pointing at the timestamp where\n",
    "this is discussed. If the question is discussed in multiple documents,\n",
    "cite all of them.\n",
    "\n",
    "Don't use markdown or any formatting in the output.\n",
    "\"\"\".strip()\n",
    "\n",
    "prompt_template = \"\"\"\n",
    "<VIDEO_ID>\n",
    "{video_id}\n",
    "</VIDEO_ID>\n",
    "\n",
    "<QUESTION>\n",
    "{question}\n",
    "</QUESTION>\n",
    "\n",
    "<CONTEXT>\n",
    "{context}\n",
    "</CONTEXT>\n",
    "\"\"\".strip()\n",
    "\n",
    "def build_prompt(question, search_results):\n",
    "    context = json.dumps(search_results)\n",
    "    return prompt_template.format(\n",
    "        question=question,\n",
    "        context=context,\n",
    "        video_id=video_id\n",
    "    ).strip()\n",
    "\n",
    "def rag(query):\n",
    "    search_results = search(query)\n",
    "    prompt = build_prompt(query, search_results)\n",
    "    response = llm(prompt, instructions=instructions)\n",
    "    return response\n",
    "\n",
    "# Test it:\n"
   ]
  },
  {
   "cell_type": "code",
   "execution_count": 60,
   "id": "3c44263d-3a5d-4b1d-ada4-78fe260a51c2",
   "metadata": {},
   "outputs": [
    {
     "name": "stdout",
     "output_type": "stream",
     "text": [
      "Yes, according to the video, many participants of the course have successfully found jobs after completing it. While the course does not provide job placement services, it teaches important skills for machine learning that increase the chances of finding a job. Additionally, engaging in projects and possibly volunteering can further enhance job readiness. \n",
      "\n",
      "For more details, you can refer to the discussion at this timestamp: https://www.youtube.com/watch?v=ph1PxZIkz1o&t=1m21s.\n"
     ]
    }
   ],
   "source": [
    "answer = rag('Can I find a job after the course?')\n",
    "print(answer)"
   ]
  },
  {
   "cell_type": "code",
   "execution_count": null,
   "id": "dac871cb-63e6-4ef0-8336-80d09d6e1439",
   "metadata": {},
   "outputs": [],
   "source": []
  }
 ],
 "metadata": {
  "kernelspec": {
   "display_name": "Python 3 (ipykernel)",
   "language": "python",
   "name": "python3"
  },
  "language_info": {
   "codemirror_mode": {
    "name": "ipython",
    "version": 3
   },
   "file_extension": ".py",
   "mimetype": "text/x-python",
   "name": "python",
   "nbconvert_exporter": "python",
   "pygments_lexer": "ipython3",
   "version": "3.13.7"
  }
 },
 "nbformat": 4,
 "nbformat_minor": 5
}
