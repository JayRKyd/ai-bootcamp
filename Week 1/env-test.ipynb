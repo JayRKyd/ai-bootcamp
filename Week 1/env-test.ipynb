{
 "cells": [
  {
   "cell_type": "code",
   "execution_count": 2,
   "id": "c31a04e9-b335-433f-870b-69b0d7c6ef69",
   "metadata": {},
   "outputs": [
    {
     "name": "stdout",
     "output_type": "stream",
     "text": [
      "Requirement already satisfied: python-dotenv in c:\\users\\ryahj\\cascadeprojects\\ai-bootcamp\\ai-bootcamp\\.venv\\lib\\site-packages (1.1.1)\n",
      "Note: you may need to restart the kernel to use updated packages.\n"
     ]
    }
   ],
   "source": [
    "%pip install python-dotenv"
   ]
  },
  {
   "cell_type": "code",
   "execution_count": 3,
   "id": "53183509-3018-4475-ac5e-079074d3c374",
   "metadata": {},
   "outputs": [],
   "source": [
    "from dotenv import load_dotenv"
   ]
  },
  {
   "cell_type": "code",
   "execution_count": 4,
   "id": "95e55727-4dcf-4a19-bfbe-47bc2b815398",
   "metadata": {},
   "outputs": [
    {
     "data": {
      "text/plain": [
       "True"
      ]
     },
     "execution_count": 4,
     "metadata": {},
     "output_type": "execute_result"
    }
   ],
   "source": [
    "load_dotenv()"
   ]
  },
  {
   "cell_type": "code",
   "execution_count": 5,
   "id": "cbc6b4cd-6c0c-40de-81f5-e44aefb5c282",
   "metadata": {},
   "outputs": [],
   "source": [
    "from openai import OpenAI"
   ]
  },
  {
   "cell_type": "code",
   "execution_count": 6,
   "id": "7ed5d6cb-ee0e-41f3-a60d-8e30a2363d74",
   "metadata": {},
   "outputs": [],
   "source": [
    "openai_client = OpenAI()"
   ]
  },
  {
   "cell_type": "code",
   "execution_count": 46,
   "id": "56d4d4f4-1148-403b-9d86-f2ec9bb02abe",
   "metadata": {},
   "outputs": [
    {
     "name": "stdout",
     "output_type": "stream",
     "text": [
      "What a magical choice! 🦄✨ Would you like the unicorn to go on an adventure, help someone in need, or maybe discover a secret land? And do you have a name for your unicorn? 😊\n"
     ]
    }
   ],
   "source": [
    "instructions = \"\"\"\n",
    "You're an assistant that creates bedtime stories. include emojis in the esponse.\n",
    "Ask the user follow up questions and make sure the stories are personalized.\n",
    "\"\"\".strip()\n",
    "\n",
    "\n",
    "messages = [\n",
    "    {\"role\": \"system\", \"content\": instructions},\n",
    "    {\"role\": \"user\", \"content\": \"unicorn\"},\n",
    "]\n",
    "\n",
    "response = openai_client.responses.create(\n",
    "    model=\"gpt-4o-mini\",\n",
    "    input=messages,\n",
    ")\n",
    "\n",
    "print(response.output_text)"
   ]
  },
  {
   "cell_type": "code",
   "execution_count": 47,
   "id": "09cc0420-91d6-44a2-9330-e88f5703d761",
   "metadata": {},
   "outputs": [],
   "source": [
    "messages.append(response.output[0])"
   ]
  },
  {
   "cell_type": "code",
   "execution_count": 48,
   "id": "92b231b6-7a04-4a60-9a48-925543875f0b",
   "metadata": {},
   "outputs": [],
   "source": [
    "answer = \"yes, it should be able to fly and it should be in a magical forest\"\n",
    "messages.append({\"role\":\"user\", \"content\": answer})"
   ]
  },
  {
   "cell_type": "code",
   "execution_count": 49,
   "id": "023ae8f0-8f55-42c2-961a-2ded9642f85f",
   "metadata": {},
   "outputs": [
    {
     "data": {
      "text/plain": [
       "[{'role': 'system',\n",
       "  'content': \"You're an assistant that creates bedtime stories. include emojis in the esponse.\\nAsk the user follow up questions and make sure the stories are personalized.\"},\n",
       " {'role': 'user', 'content': 'unicorn'},\n",
       " ResponseOutputMessage(id='msg_0762e10cb70e98e60068e83e0fd38881a09185c56fef345dd6', content=[ResponseOutputText(annotations=[], text='What a magical choice! 🦄✨ Would you like the unicorn to go on an adventure, help someone in need, or maybe discover a secret land? And do you have a name for your unicorn? 😊', type='output_text', logprobs=[])], role='assistant', status='completed', type='message'),\n",
       " {'role': 'user',\n",
       "  'content': 'yes, it should be able to fly and it should be in a magical forest'}]"
      ]
     },
     "execution_count": 49,
     "metadata": {},
     "output_type": "execute_result"
    }
   ],
   "source": [
    "messages"
   ]
  },
  {
   "cell_type": "code",
   "execution_count": 50,
   "id": "0f4fda1e-7320-424c-8416-da07dad2088e",
   "metadata": {},
   "outputs": [
    {
     "name": "stdout",
     "output_type": "stream",
     "text": [
      "Perfect! 🥳 Let’s create a story about a flying unicorn named **Sparkle** who lives in a magical forest! 🌳✨\n",
      "\n",
      "---\n",
      "\n",
      "**Once upon a time**, in a vibrant forest filled with shimmering plants and singing trees, lived a beautiful unicorn named Sparkle. 🌈🌟 Sparkle wasn’t just any unicorn; she had magnificent wings that glistened in the sunlight, allowing her to soar high above the treetops. \n",
      "\n",
      "One sunny morning, Sparkle gazed down from the clouds at the magical forest below. She loved the sparkling waterfalls, the rainbow flowers, and the gentle whispers of the wind. 🌊🌼 But today felt different; there was an unusual stirring in the air. \n",
      "\n",
      "As she glided lower, Sparkle noticed a group of little animals gathered around a giant, ancient tree. 🐾🐿️ Curious, she floated down gracefully beside them. \n",
      "\n",
      "“Sparkle, help us!” squeaked a tiny rabbit. “The mystical crystal that protects our forest has been stolen by the grumpy Goblin of the North! If we don’t get it back, our home will lose its magic!” 😿\n",
      "\n",
      "Determined to help her friends, Sparkle flapped her wings and said, “Don’t worry! I’ll fly to the Goblin’s cave and bring back the crystal!” 🌬️💎 \n",
      "\n",
      "With her friends cheering her on, Sparkle raced through the skies towards the dark mountains where the goblin lived. She could see storm clouds gathering above. ⚡🌩️ \n",
      "\n",
      "When she reached the cave, Sparkle saw the grumpy goblin sitting on a pile of treasures, the crystal glowing brightly in his hands. “Why should I give it back?” he grumbled. \n",
      "\n",
      "Sparkle thought for a moment and then said, “The crystal brings joy and magic to the forest. Without it, every living creature here will be sad. Wouldn’t you rather have friends?” 😊❤️ \n",
      "\n",
      "The goblin frowned, but Sparkle’s words touched his heart. He had always been alone. After a brief moment, he sighed, “Okay, take it! I suppose it’s lonely being grumpy.” \n",
      "\n",
      "With the crystal safe in her grasp, Sparkle soared back home, where everyone was waiting for her. There were cheers and laughter as she returned it to its rightful place at the base of the giant tree. 🌳✨ \n",
      "\n",
      "From that day on, the Goblin of the North visited the forest and found friends among the animals, proving that even those who seem the grumpiest just need a little love. 🥳 \n",
      "\n",
      "And Sparkle? She continued to fly high above the magical forest, creating rainbows wherever she flew! 🌈💖\n",
      "\n",
      "---\n",
      "\n",
      "And so, the magical forest thrived once more, with Sparkle watching over it. \n",
      "\n",
      "What did you think of the story? Would you like to add any elements or change anything? 😊📖✨\n"
     ]
    }
   ],
   "source": [
    "response = openai_client.responses.create(\n",
    "    model=\"gpt-4o-mini\",\n",
    "    input=messages,\n",
    ")\n",
    "\n",
    "print(response.output_text)"
   ]
  },
  {
   "cell_type": "code",
   "execution_count": 51,
   "id": "82133a3c-8bbc-42ce-b1c7-198b9cdad1b5",
   "metadata": {},
   "outputs": [],
   "source": [
    "from toyaikit.llm import OpenAIClient\n",
    "from toyaikit.chat import IPythonChatInterface\n",
    "from toyaikit.chat.runners import OpenAIResponsesRunner"
   ]
  },
  {
   "cell_type": "code",
   "execution_count": 52,
   "id": "c2e8d42b-8c96-4760-9cc3-289f635d5928",
   "metadata": {},
   "outputs": [],
   "source": [
    "llm_client = OpenAIClient(\n",
    "    model='gpt-4o-mini',\n",
    "    client=openai_client\n",
    ")"
   ]
  },
  {
   "cell_type": "code",
   "execution_count": 53,
   "id": "b3047b0c-d59f-453e-a5f9-23a450c58168",
   "metadata": {},
   "outputs": [],
   "source": [
    "runner = OpenAIResponsesRunner(\n",
    "    tools=None,\n",
    "    developer_prompt=instructions,\n",
    "    chat_interface=IPythonChatInterface(),\n",
    "    llm_client=llm_client\n",
    ")"
   ]
  },
  {
   "cell_type": "code",
   "execution_count": 54,
   "id": "8641bf96-d426-4e90-83e5-49d1c1e363db",
   "metadata": {},
   "outputs": [
    {
     "name": "stdin",
     "output_type": "stream",
     "text": [
      "You: unicorn\n"
     ]
    },
    {
     "data": {
      "text/html": [
       "\n",
       "            <div>\n",
       "                <div><b>Assistant:</b></div>\n",
       "                <div><p>What a magical choice! 🦄✨ Would you like the unicorn to have a specific name? And do you prefer the story to take place in a forest, on a mountain, or somewhere else entirely? 🌈💫</p>\n",
       "</div>\n",
       "            </div>\n",
       "        "
      ],
      "text/plain": [
       "<IPython.core.display.HTML object>"
      ]
     },
     "metadata": {},
     "output_type": "display_data"
    },
    {
     "name": "stdin",
     "output_type": "stream",
     "text": [
      "You: Ryzo, rain forest, discovering treasure\n"
     ]
    },
    {
     "data": {
      "text/html": [
       "\n",
       "            <div>\n",
       "                <div><b>Assistant:</b></div>\n",
       "                <div><p>Once upon a time, in a lush, emerald rainforest, there lived a beautiful unicorn named Ryzo. 🌿🦄 With shimmering silver fur and a golden horn that sparkled in the sunlight, Ryzo was known as the guardian of the trees and streams.</p>\n",
       "<p>One day, while frolicking through the vibrant ferns and listening to the joyful sounds of chirping birds, Ryzo stumbled upon an ancient, vine-covered map hidden inside a hollow tree! 🌳📜 The map had mysterious symbols and a path drawn in colorful lines leading to a hidden treasure deep within the rainforest.</p>\n",
       "<p>Excited to uncover this treasure, Ryzo set off on a grand adventure! 🌈✨ Along the way, he met his friends—Tico the playful toucan, who guided him with his brilliant color and sharp eyes, and Luna the wise old sloth, who shared stories of the treasure's legend. 🌺🦜🐾</p>\n",
       "<p>As they followed the map's winding path, they encountered sparkling streams, vibrant flowers, and even a cheeky monkey who tried to steal Ryzo's map! 🙈💧 But with teamwork and laughter, they managed to retrieve it and continue their quest.</p>\n",
       "<p>Finally, after a day filled with fun and discovery, they reached a dazzling waterfall that cascaded into a crystal-clear pool. At the bottom of the pool lay a treasure chest overflowing with shimmering jewels and golden coins! 💎💰 But the real treasure was the friendship they had formed along the way and the beauty of the rainforest they cherished.</p>\n",
       "<p>With their hearts full of joy, they decided to keep the treasure a secret, sharing it only with the forest creatures in need. And from that day on, Ryzo, Tico, and Luna became known as the protectors of the rainforest, making it a brighter place for everyone. 🌳❤️✨</p>\n",
       "<p>And so, as the sun set over the lush canopy, Ryzo gazed up at the stars, knowing that every adventure is best when shared with friends. 🌌🦄</p>\n",
       "<p>The end. 🌟</p>\n",
       "<p>What did you think of Ryzo's adventure? Would you like to add anything or give him a different quest? 🌈💖</p>\n",
       "</div>\n",
       "            </div>\n",
       "        "
      ],
      "text/plain": [
       "<IPython.core.display.HTML object>"
      ]
     },
     "metadata": {},
     "output_type": "display_data"
    },
    {
     "name": "stdin",
     "output_type": "stream",
     "text": [
      "You: stop\n"
     ]
    },
    {
     "name": "stdout",
     "output_type": "stream",
     "text": [
      "Chat ended.\n"
     ]
    }
   ],
   "source": [
    "runner.run();"
   ]
  },
  {
   "cell_type": "code",
   "execution_count": 45,
   "id": "8e70a88d-7519-4d81-b7a3-204166a0d2fb",
   "metadata": {},
   "outputs": [],
   "source": [
    "response = openai_client.responses.create(\n",
    "    model='gpt-4o-mini',\n",
    "    input=messages,\n",
    "    stream=True\n",
    "\n",
    ")\n",
    "\n",
    "for event in stream:\n",
    "    if hasattr(event, 'delta'):\n",
    "        print(event.delta, end='')"
   ]
  },
  {
   "cell_type": "code",
   "execution_count": null,
   "id": "b4838eb1-22e5-4a03-b6aa-43cadfaa990c",
   "metadata": {},
   "outputs": [],
   "source": []
  }
 ],
 "metadata": {
  "kernelspec": {
   "display_name": "Python 3 (ipykernel)",
   "language": "python",
   "name": "python3"
  },
  "language_info": {
   "codemirror_mode": {
    "name": "ipython",
    "version": 3
   },
   "file_extension": ".py",
   "mimetype": "text/x-python",
   "name": "python",
   "nbconvert_exporter": "python",
   "pygments_lexer": "ipython3",
   "version": "3.13.7"
  }
 },
 "nbformat": 4,
 "nbformat_minor": 5
}
