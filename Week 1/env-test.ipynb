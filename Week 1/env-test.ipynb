{
 "cells": [
  {
   "cell_type": "code",
   "execution_count": 2,
   "id": "c31a04e9-b335-433f-870b-69b0d7c6ef69",
   "metadata": {},
   "outputs": [
    {
     "name": "stdout",
     "output_type": "stream",
     "text": [
      "Requirement already satisfied: python-dotenv in c:\\users\\ryahj\\cascadeprojects\\ai-bootcamp\\ai-bootcamp\\.venv\\lib\\site-packages (1.1.1)\n",
      "Note: you may need to restart the kernel to use updated packages.\n"
     ]
    }
   ],
   "source": [
    "%pip install python-dotenv"
   ]
  },
  {
   "cell_type": "code",
   "execution_count": 3,
   "id": "53183509-3018-4475-ac5e-079074d3c374",
   "metadata": {},
   "outputs": [],
   "source": [
    "from dotenv import load_dotenv"
   ]
  },
  {
   "cell_type": "code",
   "execution_count": 4,
   "id": "95e55727-4dcf-4a19-bfbe-47bc2b815398",
   "metadata": {},
   "outputs": [
    {
     "data": {
      "text/plain": [
       "True"
      ]
     },
     "execution_count": 4,
     "metadata": {},
     "output_type": "execute_result"
    }
   ],
   "source": [
    "load_dotenv()"
   ]
  },
  {
   "cell_type": "code",
   "execution_count": 8,
   "id": "cbc6b4cd-6c0c-40de-81f5-e44aefb5c282",
   "metadata": {},
   "outputs": [],
   "source": [
    "from openai import OpenAI"
   ]
  },
  {
   "cell_type": "code",
   "execution_count": 9,
   "id": "7ed5d6cb-ee0e-41f3-a60d-8e30a2363d74",
   "metadata": {},
   "outputs": [],
   "source": [
    "openai_client = OpenAI()"
   ]
  },
  {
   "cell_type": "code",
   "execution_count": 10,
   "id": "56d4d4f4-1148-403b-9d86-f2ec9bb02abe",
   "metadata": {},
   "outputs": [
    {
     "name": "stdout",
     "output_type": "stream",
     "text": [
      "### Luna the Gentle Unicorn\n",
      "\n",
      "In a lush, sparkling forest where the sun peeked through emerald leaves, there lived a gentle unicorn named Luna. Her coat shimmered like starlight, and her mane flowed like a stream of silver ribbons. Luna had a special gift—she could make flowers bloom just by touching them with her horn.\n",
      "\n",
      "One evening, as the sun painted the sky in shades of pink and gold, Luna set off on a journey to explore a new part of the forest. While trotting along a winding path, she stumbled upon a little rabbit named Benny, who was trembling under a bush.\n",
      "\n",
      "“Are you okay, little one?” Luna asked softly, kneeling down.\n",
      "\n",
      "Benny looked up with teary eyes. “I’m lost and can’t find my way home,” he sniffled. \n",
      "\n",
      "Luna’s heart melted, and she knew she had to help. “Don’t worry, Benny. I’ll help you find your way home. Climb onto my back!” \n",
      "\n",
      "With great care, Benny hopped up to Luna’s back, and they set off together. As they traveled, Luna sprinkled magic wherever she went, creating vibrant flowers that lit up the path. The gentle glow of the blooms made the forest feel warm and safe.\n",
      "\n",
      "After a little while, they arrived at a small meadow filled with rabbits. Benny’s eyes sparkled with joy as he spotted his family. “There they are!” he said excitedly. \n",
      "\n",
      "As they approached, Benny hopped off and ran straight into his mother’s arms. “Thank you, Luna!” he called back, his heart swelling with happiness. \n",
      "\n",
      "Luna smiled, happy to see Benny safe and sound. “Always remember, kindness lights the way,” she said before turning to leave. \n",
      "\n",
      "Just then, a cool breeze rustled the leaves, and the stars began to twinkle overhead. Luna felt content as she trotted back home, her heart full from helping a friend. \n",
      "\n",
      "That night, under the starlit sky, Luna lay down in a soft patch of grass, feeling the warmth of the forest and dreaming of the adventures that awaited her.\n",
      "\n",
      "And from that day on, whenever someone was lost, all they had to do was look for the glow of Luna’s flowers, and they would find their way home.\n",
      "\n",
      "**The End.** \n",
      "\n",
      "Sweet dreams! 🌙✨\n"
     ]
    }
   ],
   "source": [
    "response = openai_client.responses.create(\n",
    "    model=\"gpt-4o-mini\",\n",
    "    input=\"Write a short bedtime story about a unicorn.\"\n",
    ")\n",
    "\n",
    "print(response.output_text)"
   ]
  },
  {
   "cell_type": "raw",
   "id": "e3e216ee-9836-43a4-937a-0a107a236c72",
   "metadata": {},
   "source": []
  },
  {
   "cell_type": "code",
   "execution_count": null,
   "id": "cc4df6ad-3f36-404c-8d8e-2ae7f1ec2ef7",
   "metadata": {},
   "outputs": [],
   "source": []
  }
 ],
 "metadata": {
  "kernelspec": {
   "display_name": "Python 3 (ipykernel)",
   "language": "python",
   "name": "python3"
  },
  "language_info": {
   "codemirror_mode": {
    "name": "ipython",
    "version": 3
   },
   "file_extension": ".py",
   "mimetype": "text/x-python",
   "name": "python",
   "nbconvert_exporter": "python",
   "pygments_lexer": "ipython3",
   "version": "3.13.7"
  }
 },
 "nbformat": 4,
 "nbformat_minor": 5
}
